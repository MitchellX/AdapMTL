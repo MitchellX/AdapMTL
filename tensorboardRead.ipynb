{
 "cells": [
  {
   "cell_type": "code",
   "execution_count": 4,
   "metadata": {},
   "outputs": [],
   "source": [
    "from packaging import version\n",
    "\n",
    "import pandas as pd\n",
    "from matplotlib import pyplot as plt\n",
    "import seaborn as sns\n",
    "from scipy import stats\n",
    "import tensorboard as tb"
   ]
  },
  {
   "cell_type": "code",
   "execution_count": 5,
   "metadata": {},
   "outputs": [
    {
     "name": "stdout",
     "output_type": "stream",
     "text": [
      "TensorBoard version:  2.10.0\n"
     ]
    }
   ],
   "source": [
    "major_ver, minor_ver, _ = version.parse(tb.__version__).release\n",
    "assert major_ver >= 2 and minor_ver >= 3, \\\n",
    "    \"This notebook requires TensorBoard 2.3 or later.\"\n",
    "print(\"TensorBoard version: \", tb.__version__)"
   ]
  },
  {
   "cell_type": "code",
   "execution_count": 6,
   "metadata": {},
   "outputs": [
    {
     "data": {
      "text/html": [
       "<div>\n",
       "<style scoped>\n",
       "    .dataframe tbody tr th:only-of-type {\n",
       "        vertical-align: middle;\n",
       "    }\n",
       "\n",
       "    .dataframe tbody tr th {\n",
       "        vertical-align: top;\n",
       "    }\n",
       "\n",
       "    .dataframe thead th {\n",
       "        text-align: right;\n",
       "    }\n",
       "</style>\n",
       "<table border=\"1\" class=\"dataframe\">\n",
       "  <thead>\n",
       "    <tr style=\"text-align: right;\">\n",
       "      <th></th>\n",
       "      <th>run</th>\n",
       "      <th>tag</th>\n",
       "      <th>step</th>\n",
       "      <th>value</th>\n",
       "    </tr>\n",
       "  </thead>\n",
       "  <tbody>\n",
       "    <tr>\n",
       "      <th>0</th>\n",
       "      <td>adam,run_1/train</td>\n",
       "      <td>epoch_accuracy</td>\n",
       "      <td>0</td>\n",
       "      <td>0.966867</td>\n",
       "    </tr>\n",
       "    <tr>\n",
       "      <th>1</th>\n",
       "      <td>adam,run_1/train</td>\n",
       "      <td>epoch_accuracy</td>\n",
       "      <td>1</td>\n",
       "      <td>0.986283</td>\n",
       "    </tr>\n",
       "    <tr>\n",
       "      <th>2</th>\n",
       "      <td>adam,run_1/train</td>\n",
       "      <td>epoch_accuracy</td>\n",
       "      <td>2</td>\n",
       "      <td>0.989333</td>\n",
       "    </tr>\n",
       "    <tr>\n",
       "      <th>3</th>\n",
       "      <td>adam,run_1/train</td>\n",
       "      <td>epoch_accuracy</td>\n",
       "      <td>3</td>\n",
       "      <td>0.991933</td>\n",
       "    </tr>\n",
       "    <tr>\n",
       "      <th>4</th>\n",
       "      <td>adam,run_1/train</td>\n",
       "      <td>epoch_accuracy</td>\n",
       "      <td>4</td>\n",
       "      <td>0.991733</td>\n",
       "    </tr>\n",
       "    <tr>\n",
       "      <th>...</th>\n",
       "      <td>...</td>\n",
       "      <td>...</td>\n",
       "      <td>...</td>\n",
       "      <td>...</td>\n",
       "    </tr>\n",
       "    <tr>\n",
       "      <th>1195</th>\n",
       "      <td>sgd,run_5/validation</td>\n",
       "      <td>epoch_loss</td>\n",
       "      <td>15</td>\n",
       "      <td>0.020157</td>\n",
       "    </tr>\n",
       "    <tr>\n",
       "      <th>1196</th>\n",
       "      <td>sgd,run_5/validation</td>\n",
       "      <td>epoch_loss</td>\n",
       "      <td>16</td>\n",
       "      <td>0.020212</td>\n",
       "    </tr>\n",
       "    <tr>\n",
       "      <th>1197</th>\n",
       "      <td>sgd,run_5/validation</td>\n",
       "      <td>epoch_loss</td>\n",
       "      <td>17</td>\n",
       "      <td>0.020364</td>\n",
       "    </tr>\n",
       "    <tr>\n",
       "      <th>1198</th>\n",
       "      <td>sgd,run_5/validation</td>\n",
       "      <td>epoch_loss</td>\n",
       "      <td>18</td>\n",
       "      <td>0.022192</td>\n",
       "    </tr>\n",
       "    <tr>\n",
       "      <th>1199</th>\n",
       "      <td>sgd,run_5/validation</td>\n",
       "      <td>epoch_loss</td>\n",
       "      <td>19</td>\n",
       "      <td>0.032140</td>\n",
       "    </tr>\n",
       "  </tbody>\n",
       "</table>\n",
       "<p>1200 rows × 4 columns</p>\n",
       "</div>"
      ],
      "text/plain": [
       "                       run             tag  step     value\n",
       "0         adam,run_1/train  epoch_accuracy     0  0.966867\n",
       "1         adam,run_1/train  epoch_accuracy     1  0.986283\n",
       "2         adam,run_1/train  epoch_accuracy     2  0.989333\n",
       "3         adam,run_1/train  epoch_accuracy     3  0.991933\n",
       "4         adam,run_1/train  epoch_accuracy     4  0.991733\n",
       "...                    ...             ...   ...       ...\n",
       "1195  sgd,run_5/validation      epoch_loss    15  0.020157\n",
       "1196  sgd,run_5/validation      epoch_loss    16  0.020212\n",
       "1197  sgd,run_5/validation      epoch_loss    17  0.020364\n",
       "1198  sgd,run_5/validation      epoch_loss    18  0.022192\n",
       "1199  sgd,run_5/validation      epoch_loss    19  0.032140\n",
       "\n",
       "[1200 rows x 4 columns]"
      ]
     },
     "execution_count": 6,
     "metadata": {},
     "output_type": "execute_result"
    }
   ],
   "source": [
    "experiment_id = \"events.out.tfevents.1664755371.neuromancer.37402.0\"\n",
    "# experiment_id = \"/home/tongping/mingcan/github/Pruning/TreeMTL/outputs/all_shared_mobilenetv2/0928_prune_head/finetune/0.1/events.out.tfevents.1664755371.neuromancer.37402.0\"\n",
    "experiment = tb.data.experimental.ExperimentFromDev(experiment_id)\n",
    "df = experiment.get_scalars()\n",
    "df"
   ]
  }
 ],
 "metadata": {
  "kernelspec": {
   "display_name": "Python 3.8.13 ('MTL')",
   "language": "python",
   "name": "python3"
  },
  "language_info": {
   "codemirror_mode": {
    "name": "ipython",
    "version": 3
   },
   "file_extension": ".py",
   "mimetype": "text/x-python",
   "name": "python",
   "nbconvert_exporter": "python",
   "pygments_lexer": "ipython3",
   "version": "3.8.13"
  },
  "orig_nbformat": 4,
  "vscode": {
   "interpreter": {
    "hash": "dec9908962d1e60db9251c5a4df096739a760f8786ed54d199373cedc48abedb"
   }
  }
 },
 "nbformat": 4,
 "nbformat_minor": 2
}
